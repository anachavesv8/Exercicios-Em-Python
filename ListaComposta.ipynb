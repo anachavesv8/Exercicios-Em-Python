{
  "nbformat": 4,
  "nbformat_minor": 0,
  "metadata": {
    "colab": {
      "name": "ListaComposta.ipynb",
      "provenance": [],
      "collapsed_sections": [],
      "authorship_tag": "ABX9TyOLAEfFZxOMufuNEs6Dso4f",
      "include_colab_link": true
    },
    "kernelspec": {
      "name": "python3",
      "display_name": "Python 3"
    },
    "language_info": {
      "name": "python"
    }
  },
  "cells": [
    {
      "cell_type": "markdown",
      "metadata": {
        "id": "view-in-github",
        "colab_type": "text"
      },
      "source": [
        "<a href=\"https://colab.research.google.com/github/anachavesv8/Exercicios-Em-Python/blob/main/ListaComposta.ipynb\" target=\"_parent\"><img src=\"https://colab.research.google.com/assets/colab-badge.svg\" alt=\"Open In Colab\"/></a>"
      ]
    },
    {
      "cell_type": "markdown",
      "source": [
        "Faça um programa que leia nome e peso de várias pessoas,guardando tudo em uma lista. No final,mostre: \n",
        "\n",
        "A) Quantas pessoas foram cadastradas.  \n",
        "\n",
        "B) Uma listagem com as pessoas mais pesadas. \n",
        "\n",
        "C) Uma listagem com as pessoas mais leves"
      ],
      "metadata": {
        "id": "4-df9QtXL5FE"
      }
    },
    {
      "cell_type": "code",
      "execution_count": 10,
      "metadata": {
        "id": "izYp8ePoLayX",
        "colab": {
          "base_uri": "https://localhost:8080/"
        },
        "outputId": "4018a145-4fac-4c30-ffec-9ece9f967619"
      },
      "outputs": [
        {
          "output_type": "stream",
          "name": "stdout",
          "text": [
            "Nome: Ana\n",
            "Peso: 75\n",
            "Deseja continuar? [s/n]: s\n",
            "Nome: Nat\n",
            "Peso: 22\n",
            "Deseja continuar? [s/n]: s\n",
            "Nome: Marcos\n",
            "Peso: 63\n",
            "Deseja continuar? [s/n]: n\n",
            "-=-=-=-=-=-=-=-=-=-=-=-=-=-=-=-=-=-=-=-=-=-=-=-=-=-=-=-=-=-=\n",
            "Os dados foram [['Ana', 75.0], ['Nat', 22.0], ['Marcos', 63.0]]\n",
            "Ao todo, você cadastrou 3 pessoas\n",
            "O maior peso foi de 75.0kg -> Ana\n",
            "O menor peso foi de 22.0 kg -> Nat\n"
          ]
        }
      ],
      "source": [
        "temp = []\n",
        "princ = []\n",
        "maior = 0\n",
        "menor = 0\n",
        "\n",
        "while True:\n",
        "  temp.append(str(input('Nome: ')))\n",
        "  temp.append(float(input('Peso: ')))\n",
        "  if len(princ) == 0:\n",
        "    maior = menor = temp[1] # como não há nada registardo, o primeiro será o maior e o menor, temp 1 = peso\n",
        "  else:\n",
        "    if temp[1] > maior:      #se o que foi registrado for maior, entra para a variavel maior\n",
        "      maior = temp[1]\n",
        "    if temp[1] < menor:     #vice-versa\n",
        "      menor = temp[1]\n",
        "  princ.append(temp[:]) #esse fatiamento copia da lista temp para a lista principal\n",
        "  temp.clear()            #limpa a lista temporaria/temp\n",
        "  resp = str(input('Deseja continuar? [s/n]: '))\n",
        "  if resp in 'Nn':\n",
        "    break\n",
        "print('-='*30)\n",
        "print(f'Os dados foram {princ}')\n",
        "print(f'Ao todo, você cadastrou {len(princ)} pessoas')\n",
        "print(f'O maior peso foi de {maior}kg', end=' -> ')\n",
        "for p in princ:\n",
        "  if p[1] == maior:\n",
        "    print(f'{p[0]}')\n",
        "print(f'O menor peso foi de {menor} kg', end=' -> ')\n",
        "for p in princ:\n",
        "  if p[1] == menor:\n",
        "    print(f'{p[0]}')\n",
        "    \n"
      ]
    },
    {
      "cell_type": "code",
      "source": [
        ""
      ],
      "metadata": {
        "id": "rVNtwTF3YGnZ"
      },
      "execution_count": null,
      "outputs": []
    }
  ]
}