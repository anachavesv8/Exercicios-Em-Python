{
  "nbformat": 4,
  "nbformat_minor": 0,
  "metadata": {
    "colab": {
      "name": "ListaParesImpares.ipynb",
      "provenance": [],
      "collapsed_sections": [],
      "authorship_tag": "ABX9TyOEHgi72X0e12iW6zgSEUY+",
      "include_colab_link": true
    },
    "kernelspec": {
      "name": "python3",
      "display_name": "Python 3"
    },
    "language_info": {
      "name": "python"
    }
  },
  "cells": [
    {
      "cell_type": "markdown",
      "metadata": {
        "id": "view-in-github",
        "colab_type": "text"
      },
      "source": [
        "<a href=\"https://colab.research.google.com/github/anachavesv8/Exercicios-Em-Python/blob/main/ListaParesImpares.ipynb\" target=\"_parent\"><img src=\"https://colab.research.google.com/assets/colab-badge.svg\" alt=\"Open In Colab\"/></a>"
      ]
    },
    {
      "cell_type": "markdown",
      "source": [
        "Crie um programa onde o usuário possa digitar sete valores numéricos e cadastre-os em uma lista única que mantenha separados os valores pares e ímpares. No final, mostre os valores pares e ímpares em ordem crescente.\n",
        "\n"
      ],
      "metadata": {
        "id": "lUI8hgEfeCbE"
      }
    },
    {
      "cell_type": "code",
      "execution_count": 5,
      "metadata": {
        "colab": {
          "base_uri": "https://localhost:8080/"
        },
        "id": "yHn2NLbkd8oi",
        "outputId": "9a9acc96-53cb-40ed-d787-7a35c5ec92bd"
      },
      "outputs": [
        {
          "output_type": "stream",
          "name": "stdout",
          "text": [
            "Digite o 1º numero: 5\n",
            "Digite o 2º numero: 69\n",
            "Digite o 3º numero: 254\n",
            "Digite o 4º numero: 25\n",
            "Digite o 5º numero: 10\n",
            "Digite o 6º numero: 32\n",
            "Digite o 7º numero: 69\n",
            "-=-=-=-=-=-=-=-=-=-=-=-=-=-=-=-=-=-=-=-=-=-=-=-=-=-=-=-=-=-=\n",
            "Todos os valores pares: [10, 32, 254]\n",
            "Todos os valores impares: [5, 25, 69, 69]\n"
          ]
        }
      ],
      "source": [
        "numero = [[],[]]\n",
        "valor = 0\n",
        "for c in range(1, 8):\n",
        "  valor = int(input(f'Digite o {c}º numero: '))\n",
        "  if valor % 2 == 0:\n",
        "    numero[0].append(valor)\n",
        "  else:\n",
        "    numero[1].append(valor)\n",
        "print('-='*30)\n",
        "numero[0].sort()\n",
        "numero[1].sort()\n",
        "print(f'Todos os valores pares: {numero[0]}')\n",
        "print(f'Todos os valores impares: {numero[1]}')\n",
        "\n"
      ]
    }
  ]
}