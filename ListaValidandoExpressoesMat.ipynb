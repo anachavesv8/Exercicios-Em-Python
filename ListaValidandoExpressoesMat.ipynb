{
  "nbformat": 4,
  "nbformat_minor": 0,
  "metadata": {
    "colab": {
      "name": "ListaValidandoExpressoesMat.ipynb",
      "provenance": [],
      "collapsed_sections": [],
      "authorship_tag": "ABX9TyMc5w69SS2EYOF/Zfcp9myv",
      "include_colab_link": true
    },
    "kernelspec": {
      "name": "python3",
      "display_name": "Python 3"
    },
    "language_info": {
      "name": "python"
    }
  },
  "cells": [
    {
      "cell_type": "markdown",
      "metadata": {
        "id": "view-in-github",
        "colab_type": "text"
      },
      "source": [
        "<a href=\"https://colab.research.google.com/github/anachavesv8/Exercicios-Em-Python/blob/main/ListaValidandoExpressoesMat.ipynb\" target=\"_parent\"><img src=\"https://colab.research.google.com/assets/colab-badge.svg\" alt=\"Open In Colab\"/></a>"
      ]
    },
    {
      "cell_type": "code",
      "execution_count": null,
      "metadata": {
        "id": "_Azsli90_nrl"
      },
      "outputs": [],
      "source": [
        ""
      ]
    },
    {
      "cell_type": "markdown",
      "source": [
        "Crie um programa onde o usuário digite uma expressão qualquer que use parênteses. Seu aplicativo deverá analisar se a expressão passada está com os parênteses abertos e fechados na ordem correta.\n"
      ],
      "metadata": {
        "id": "GccpQy5kALXU"
      }
    },
    {
      "cell_type": "code",
      "source": [
        "expr = str(input('Digite a expressão: '))\n",
        "pilha = []\n",
        "for s in expr:\n",
        "  if s == '(':\n",
        "    pilha.append('(')\n",
        "  elif s == ')':\n",
        "    if len(pilha) > 0:\n",
        "      pilha.pop()\n",
        "    else:\n",
        "      pilha.append(')')\n",
        "      break\n",
        "if len(pilha) == 0:\n",
        "  print('Sua expressão está valida!')\n",
        "else:\n",
        "  print('Sua expressão está errada!')\n"
      ],
      "metadata": {
        "colab": {
          "base_uri": "https://localhost:8080/"
        },
        "id": "s19DCDrZARNE",
        "outputId": "0b3d0cf5-a4fb-44f6-f8c2-ae9591c90c33"
      },
      "execution_count": 2,
      "outputs": [
        {
          "output_type": "stream",
          "name": "stdout",
          "text": [
            "Digite a expressão: (2+3)2+9)\n",
            "Sua expressão está errada!\n"
          ]
        }
      ]
    }
  ]
}