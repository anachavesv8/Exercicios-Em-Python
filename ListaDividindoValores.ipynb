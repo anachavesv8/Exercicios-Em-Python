{
  "nbformat": 4,
  "nbformat_minor": 0,
  "metadata": {
    "colab": {
      "name": "ListaDividindoValores.ipynb",
      "provenance": [],
      "collapsed_sections": [],
      "authorship_tag": "ABX9TyNPRhKoJjUMsiM58krc7xcr",
      "include_colab_link": true
    },
    "kernelspec": {
      "name": "python3",
      "display_name": "Python 3"
    },
    "language_info": {
      "name": "python"
    }
  },
  "cells": [
    {
      "cell_type": "markdown",
      "metadata": {
        "id": "view-in-github",
        "colab_type": "text"
      },
      "source": [
        "<a href=\"https://colab.research.google.com/github/anachavesv8/Exercicios-Em-Python/blob/main/ListaDividindoValores.ipynb\" target=\"_parent\"><img src=\"https://colab.research.google.com/assets/colab-badge.svg\" alt=\"Open In Colab\"/></a>"
      ]
    },
    {
      "cell_type": "markdown",
      "source": [
        "Crie um programa que vai ler vários números e colocar em uma lista. \n",
        "\n",
        "Depois disso, crie duas listas extras que vão conter apenas os valores pares e os valores ímpares digitados, respectivamente. \n",
        "\n",
        "Ao final, mostre o conteúdo das três listas geradas."
      ],
      "metadata": {
        "id": "9DrHhHL16dql"
      }
    },
    {
      "cell_type": "code",
      "execution_count": 12,
      "metadata": {
        "colab": {
          "base_uri": "https://localhost:8080/"
        },
        "id": "pcsghEzZ6RVx",
        "outputId": "7b14d4e9-4767-4dcd-972f-50b9406bbc4b"
      },
      "outputs": [
        {
          "output_type": "stream",
          "name": "stdout",
          "text": [
            "Digite um valor: 2\n",
            "Deseja continuar? [n/s]s\n",
            "Digite um valor: 5\n",
            "Deseja continuar? [n/s]s\n",
            "Digite um valor: 9\n",
            "Deseja continuar? [n/s]s\n",
            "Digite um valor: 4\n",
            "Deseja continuar? [n/s]s\n",
            "Digite um valor: 2546\n",
            "Deseja continuar? [n/s]s\n",
            "Digite um valor: 569\n",
            "Deseja continuar? [n/s]n\n",
            "Você digitou os seguintes elementos: [2, 5, 9, 4, 2546, 569]\n",
            "Valores pares [2, 4, 2546]\n",
            "Valores impares [5, 9, 569]\n"
          ]
        }
      ],
      "source": [
        "valores = []\n",
        "valorespares = []\n",
        "valoresimpares = []\n",
        "while True:\n",
        "  valores.append(int(input('Digite um valor: ')))\n",
        "  resp = str(input('Deseja continuar? [n/s]'))\n",
        "  if resp in 'Nn':\n",
        "    break\n",
        "print(f'Você digitou os seguintes elementos: {valores}')\n",
        "for i, v in enumerate(valores):\n",
        "  if v % 2 == 0:\n",
        "    valorespares.append(v)\n",
        "  else:\n",
        "    valoresimpares.append(v)\n",
        "print(f'Valores pares {valorespares}')\n",
        "print(f'Valores impares {valoresimpares}')\n"
      ]
    }
  ]
}