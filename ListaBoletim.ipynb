{
  "nbformat": 4,
  "nbformat_minor": 0,
  "metadata": {
    "colab": {
      "name": "ListaBoletim.ipynb",
      "provenance": [],
      "collapsed_sections": [],
      "authorship_tag": "ABX9TyNdfXe+LPhiaifo8wcL+B56",
      "include_colab_link": true
    },
    "kernelspec": {
      "name": "python3",
      "display_name": "Python 3"
    },
    "language_info": {
      "name": "python"
    }
  },
  "cells": [
    {
      "cell_type": "markdown",
      "metadata": {
        "id": "view-in-github",
        "colab_type": "text"
      },
      "source": [
        "<a href=\"https://colab.research.google.com/github/anachavesv8/Exercicios-Em-Python/blob/main/ListaBoletim.ipynb\" target=\"_parent\"><img src=\"https://colab.research.google.com/assets/colab-badge.svg\" alt=\"Open In Colab\"/></a>"
      ]
    },
    {
      "cell_type": "markdown",
      "source": [
        "Crie um programa que leia nome e duas notas de vários alunos e guarde tudo em uma lista composta. No final, mostre um boletim contendo a média de cada um e permita que o usuário possa mostrar as notas de cada aluno individualmente."
      ],
      "metadata": {
        "id": "ixAiZKAX8Bli"
      }
    },
    {
      "cell_type": "code",
      "execution_count": 8,
      "metadata": {
        "colab": {
          "base_uri": "https://localhost:8080/"
        },
        "id": "kA_jjECU7rsE",
        "outputId": "cb93d6f1-c064-49ad-b4cb-a77baa1eb7f8"
      },
      "outputs": [
        {
          "output_type": "stream",
          "name": "stdout",
          "text": [
            "Nome: ANA\n",
            "Nota 1: 96.1\n",
            "Nota 2: 57.9\n",
            "Quer Continuar? [s/n]S\n",
            "Nome: MARCOS\n",
            "Nota 1: 6.9\n",
            "Nota 2: 7.2\n",
            "Quer Continuar? [s/n]S\n",
            "Nome: NATALIA\n",
            "Nota 1: 8.6\n",
            "Nota 2: 8.7\n",
            "Quer Continuar? [s/n]N\n",
            "-=-=-=-=-=-=-=-=-=-=-=-=-=-=-=-=-=-=-=-=-=-=-=-=-=-=-=-=-=-=\n",
            "No. NOME         MÉDIA\n",
            "--------------------------\n",
            "0   ANA           77.0\n",
            "1   MARCOS    7.050000000000001\n",
            "2   NATALIA   8.649999999999999\n",
            "-=-=-=-=-=-=-=-=-=-=-=-=-=-=-=-=-=-=-=-=-=-=-=-=-=-=-=-=-=-=-=-=-=-=-=\n",
            "Mostrar notas de qual aluno? [999 interrompe]: 0\n",
            "Notas do ANA são [96.1, 57.9]\n",
            "-=-=-=-=-=-=-=-=-=-=-=-=-=-=-=-=-=-=-=-=-=-=-=-=-=-=-=-=-=-=-=-=-=-=-=\n",
            "Mostrar notas de qual aluno? [999 interrompe]: 1\n",
            "Notas do MARCOS são [6.9, 7.2]\n",
            "-=-=-=-=-=-=-=-=-=-=-=-=-=-=-=-=-=-=-=-=-=-=-=-=-=-=-=-=-=-=-=-=-=-=-=\n",
            "Mostrar notas de qual aluno? [999 interrompe]: 2\n",
            "Notas do NATALIA são [8.6, 8.7]\n",
            "-=-=-=-=-=-=-=-=-=-=-=-=-=-=-=-=-=-=-=-=-=-=-=-=-=-=-=-=-=-=-=-=-=-=-=\n",
            "Mostrar notas de qual aluno? [999 interrompe]: 999\n",
            "FINALIZANDO...\n",
            "<<<<<<<< VOLTE SEMPRE >>>>>>>>>\n"
          ]
        }
      ],
      "source": [
        "ficha = []\n",
        "while True:\n",
        "  nome = str(input('Nome: '))\n",
        "  nota1 = float(input('Nota 1: '))\n",
        "  nota2 = float(input('Nota 2: '))\n",
        "  media = (nota1 + nota2) / 2\n",
        "  ficha.append([nome, [nota1, nota2], media])\n",
        "  resp = str(input('Quer Continuar? [s/n]'))\n",
        "  if resp in 'Nn':\n",
        "    break\n",
        "\n",
        "print('-='*30)\n",
        "print(f'{\"No.\":<4}{\"NOME\":<10}{\"MÉDIA\":>8}')\n",
        "print('-'*26)\n",
        "for i, a in enumerate(ficha):\n",
        "  print(f'{i:<4}{a[0]:<10}{a[2]:>8}')\n",
        "while True:\n",
        "  print('-='*35)\n",
        "  opc = int(input('Mostrar notas de qual aluno? [999 interrompe]: '))\n",
        "  if opc == 999:\n",
        "    print('FINALIZANDO...')\n",
        "    break\n",
        "  if opc <= len(ficha) -1:\n",
        "    print(f'Notas do {ficha[opc][0]} são {ficha[opc][1]}')\n",
        "print('<<<<<<<< VOLTE SEMPRE >>>>>>>>>')"
      ]
    }
  ]
}